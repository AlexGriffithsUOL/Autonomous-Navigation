{
 "cells": [
  {
   "cell_type": "code",
   "execution_count": 1,
   "id": "5ca075dd",
   "metadata": {},
   "outputs": [
    {
     "name": "stdout",
     "output_type": "stream",
     "text": [
      "Done!\n",
      "Image read!\n",
      "Image displayed!\n"
     ]
    }
   ],
   "source": [
    "import cv2\n",
    "import numpy as np\n",
    "print(\"Done!\")\n",
    "\n",
    "img = cv2.imread(\"TheMap.pgm\")\n",
    "print(\"Image read!\")\n",
    "\n",
    "img = cv2.resize(img, (0,0), fx= 2, fy= 2)\n",
    "cv2.imshow(\"woi\", img)\n",
    "print(\"Image displayed!\")"
   ]
  },
  {
   "cell_type": "code",
   "execution_count": null,
   "id": "4ffca768",
   "metadata": {},
   "outputs": [],
   "source": []
  }
 ],
 "metadata": {
  "kernelspec": {
   "display_name": "Python 3 (ipykernel)",
   "language": "python",
   "name": "python3"
  },
  "language_info": {
   "codemirror_mode": {
    "name": "ipython",
    "version": 3
   },
   "file_extension": ".py",
   "mimetype": "text/x-python",
   "name": "python",
   "nbconvert_exporter": "python",
   "pygments_lexer": "ipython3",
   "version": "3.9.13"
  }
 },
 "nbformat": 4,
 "nbformat_minor": 5
}
